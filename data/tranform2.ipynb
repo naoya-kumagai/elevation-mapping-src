{
 "cells": [
  {
   "cell_type": "code",
   "execution_count": 1,
   "metadata": {},
   "outputs": [],
   "source": [
    "from tranform import get_plane_equation\n",
    "import numpy as np\n",
    "import pickle\n",
    "import pyransac3d\n",
    "RESOLUTION = 0.005\n",
    "with open('map-20220122-155134.pkl', 'rb') as f:\n",
    "    data = pickle.load(f)\n",
    "\n",
    "data = np.array(data)\n",
    "plane = pyransac3d.Plane()\n",
    "\n",
    "coeffs_stack = np.zeros((data.shape[0],4))\n",
    "\n",
    "for i in range(data.shape[0]):\n",
    "    height_map = data[i]\n",
    "    coeffs = get_plane_equation(plane, height_map, RESOLUTION)\n",
    "    #print(coeffs)\n",
    "    coeffs_stack[i] = coeffs\n",
    "\n",
    "mean_coeffs = np.mean(coeffs_stack, axis=0)\n",
    "\n",
    "\n"
   ]
  },
  {
   "cell_type": "code",
   "execution_count": 13,
   "metadata": {},
   "outputs": [
    {
     "data": {
      "text/plain": [
       "array([0.03321, -0.91444, -0.40327, 0.70297])"
      ]
     },
     "execution_count": 13,
     "metadata": {},
     "output_type": "execute_result"
    }
   ],
   "source": [
    "np.set_printoptions(formatter={'float': lambda x: \"{0:0.5f}\".format(x)})\n",
    "mean_coeffs"
   ]
  },
  {
   "cell_type": "code",
   "execution_count": 14,
   "metadata": {},
   "outputs": [
    {
     "data": {
      "text/plain": [
       "array([0.00004, 0.00001, 0.00002, 0.00002])"
      ]
     },
     "execution_count": 14,
     "metadata": {},
     "output_type": "execute_result"
    }
   ],
   "source": [
    "np.max(coeffs_stack - mean_coeffs)\n",
    "np.max(np.abs(coeffs_stack - mean_coeffs), axis=0)\n",
    "np.var((coeffs_stack - mean_coeffs), axis=0)"
   ]
  },
  {
   "cell_type": "code",
   "execution_count": 4,
   "metadata": {},
   "outputs": [
    {
     "data": {
      "text/plain": [
       "array([[0.041, -0.915, -0.401, 0.694],\n",
       "       [0.031, -0.913, -0.407, 0.701],\n",
       "       [0.033, -0.911, -0.412, 0.705],\n",
       "       [0.039, -0.911, -0.410, 0.704],\n",
       "       [0.035, -0.915, -0.402, 0.702],\n",
       "       [0.036, -0.914, -0.405, 0.703],\n",
       "       [0.034, -0.914, -0.404, 0.703],\n",
       "       [0.030, -0.914, -0.404, 0.706],\n",
       "       [0.035, -0.914, -0.403, 0.702],\n",
       "       [0.035, -0.915, -0.402, 0.700],\n",
       "       [0.046, -0.914, -0.404, 0.698],\n",
       "       [0.028, -0.914, -0.405, 0.706],\n",
       "       [0.048, -0.912, -0.408, 0.698],\n",
       "       [0.034, -0.913, -0.406, 0.702],\n",
       "       [0.041, -0.911, -0.411, 0.706],\n",
       "       [0.034, -0.916, -0.400, 0.703],\n",
       "       [0.024, -0.916, -0.401, 0.708],\n",
       "       [0.028, -0.917, -0.399, 0.703],\n",
       "       [0.036, -0.915, -0.403, 0.703],\n",
       "       [0.032, -0.916, -0.399, 0.703],\n",
       "       [0.030, -0.921, -0.389, 0.696],\n",
       "       [0.027, -0.918, -0.396, 0.701],\n",
       "       [0.028, -0.918, -0.396, 0.694],\n",
       "       [0.040, -0.916, -0.399, 0.694],\n",
       "       [0.016, -0.918, -0.396, 0.707],\n",
       "       [0.035, -0.913, -0.405, 0.706],\n",
       "       [0.028, -0.913, -0.407, 0.711],\n",
       "       [0.029, -0.915, -0.403, 0.711],\n",
       "       [0.029, -0.913, -0.406, 0.706],\n",
       "       [0.027, -0.912, -0.410, 0.710],\n",
       "       [0.042, -0.914, -0.403, 0.698],\n",
       "       [0.029, -0.912, -0.409, 0.711]])"
      ]
     },
     "execution_count": 4,
     "metadata": {},
     "output_type": "execute_result"
    }
   ],
   "source": [
    "coeffs_stack"
   ]
  },
  {
   "cell_type": "code",
   "execution_count": null,
   "metadata": {},
   "outputs": [],
   "source": []
  }
 ],
 "metadata": {
  "interpreter": {
   "hash": "3ff86d41cc823687504c0704a1c0b7e5d761e165ef131181860fcfcb68820aac"
  },
  "kernelspec": {
   "display_name": "Python 3.8.10 64-bit ('venv': venv)",
   "language": "python",
   "name": "python3"
  },
  "language_info": {
   "codemirror_mode": {
    "name": "ipython",
    "version": 3
   },
   "file_extension": ".py",
   "mimetype": "text/x-python",
   "name": "python",
   "nbconvert_exporter": "python",
   "pygments_lexer": "ipython3",
   "version": "3.8.10"
  },
  "orig_nbformat": 4
 },
 "nbformat": 4,
 "nbformat_minor": 2
}
